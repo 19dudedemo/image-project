{
 "cells": [
  {
   "cell_type": "code",
   "execution_count": 1,
   "metadata": {},
   "outputs": [
    {
     "data": {
      "text/plain": [
       "['.ipynb_checkpoints',\n",
       " 'galaxy.jpg',\n",
       " 'galaxy_resized.jpg',\n",
       " 'kangaroos-rain-australia_71370_990x742.jpg',\n",
       " 'Lighthouse.jpg',\n",
       " 'Moon sinking, sun rising.jpg',\n",
       " 'one.ipynb',\n",
       " 'resized_galaxy.jpg',\n",
       " 'resized_galaxy_resized.jpg',\n",
       " 'resized_kangaroos-rain-australia_71370_990x742.jpg',\n",
       " 'resized_Lighthouse.jpg',\n",
       " 'resized_Moon sinking, sun rising.jpg',\n",
       " 'resized_resized_galaxy.jpg',\n",
       " 'resized_resized_galaxy_resized.jpg',\n",
       " 'resized_resized_kangaroos-rain-australia_71370_990x742.jpg',\n",
       " 'resized_resized_Lighthouse.jpg',\n",
       " 'resized_resized_Moon sinking, sun rising.jpg',\n",
       " 'resized_resized_resized_galaxy.jpg',\n",
       " 'resized_resized_resized_galaxy_resized.jpg',\n",
       " 'resized_resized_resized_kangaroos-rain-australia_71370_990x742.jpg',\n",
       " 'resized_resized_resized_Lighthouse.jpg',\n",
       " 'resized_resized_resized_Moon sinking, sun rising.jpg',\n",
       " 'second.ipynb']"
      ]
     },
     "execution_count": 1,
     "metadata": {},
     "output_type": "execute_result"
    }
   ],
   "source": [
    "import cv2\n",
    "import os\n",
    "os.listdir()"
   ]
  },
  {
   "cell_type": "code",
   "execution_count": 2,
   "metadata": {},
   "outputs": [
    {
     "name": "stdout",
     "output_type": "stream",
     "text": [
      "[[14 18 14 ... 20 15 16]\n",
      " [12 16 12 ... 20 15 17]\n",
      " [12 13 16 ... 14 24 21]\n",
      " ...\n",
      " [ 0  0  0 ...  5  8 14]\n",
      " [ 0  0  0 ...  2  3  9]\n",
      " [ 1  1  1 ...  1  1  3]]\n",
      "(1485, 990)\n"
     ]
    }
   ],
   "source": [
    "img=cv2.imread(\"galaxy.jpg\",0)\n",
    "\n",
    "print(img)\n",
    "\n",
    "print(img.shape)"
   ]
  },
  {
   "cell_type": "code",
   "execution_count": 3,
   "metadata": {},
   "outputs": [],
   "source": [
    "resized_image=cv2.resize(img,(int(img.shape[1]/2),int(img.shape[0]/2)))"
   ]
  },
  {
   "cell_type": "code",
   "execution_count": 4,
   "metadata": {},
   "outputs": [],
   "source": [
    "cv2.imshow(\"galaxy222\",resized_image)\n",
    "cv2.imwrite(\"galaxy_resized.jpg\",resized_image)\n",
    "cv2.waitKey(0)\n",
    "\n",
    "cv2.destroyAllWindows()"
   ]
  },
  {
   "cell_type": "code",
   "execution_count": null,
   "metadata": {},
   "outputs": [],
   "source": []
  },
  {
   "cell_type": "code",
   "execution_count": null,
   "metadata": {},
   "outputs": [],
   "source": []
  }
 ],
 "metadata": {
  "kernelspec": {
   "display_name": "Python 3",
   "language": "python",
   "name": "python3"
  },
  "language_info": {
   "codemirror_mode": {
    "name": "ipython",
    "version": 3
   },
   "file_extension": ".py",
   "mimetype": "text/x-python",
   "name": "python",
   "nbconvert_exporter": "python",
   "pygments_lexer": "ipython3",
   "version": "3.7.4"
  }
 },
 "nbformat": 4,
 "nbformat_minor": 2
}
