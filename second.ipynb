{
 "cells": [
  {
   "cell_type": "code",
   "execution_count": 2,
   "metadata": {},
   "outputs": [
    {
     "data": {
      "text/plain": [
       "['.ipynb_checkpoints',\n",
       " 'galaxy.jpg',\n",
       " 'galaxy_resized.jpg',\n",
       " 'kangaroos-rain-australia_71370_990x742.jpg',\n",
       " 'Lighthouse.jpg',\n",
       " 'Moon sinking, sun rising.jpg',\n",
       " 'one.ipynb',\n",
       " 'resized_galaxy.jpg',\n",
       " 'resized_galaxy_resized.jpg',\n",
       " 'resized_kangaroos-rain-australia_71370_990x742.jpg',\n",
       " 'resized_Lighthouse.jpg',\n",
       " 'resized_Moon sinking, sun rising.jpg',\n",
       " 'resized_resized_galaxy.jpg',\n",
       " 'resized_resized_galaxy_resized.jpg',\n",
       " 'resized_resized_kangaroos-rain-australia_71370_990x742.jpg',\n",
       " 'resized_resized_Lighthouse.jpg',\n",
       " 'resized_resized_Moon sinking, sun rising.jpg',\n",
       " 'resized_resized_resized_galaxy.jpg',\n",
       " 'resized_resized_resized_galaxy_resized.jpg',\n",
       " 'resized_resized_resized_kangaroos-rain-australia_71370_990x742.jpg',\n",
       " 'resized_resized_resized_Lighthouse.jpg',\n",
       " 'resized_resized_resized_Moon sinking, sun rising.jpg',\n",
       " 'second.ipynb']"
      ]
     },
     "execution_count": 2,
     "metadata": {},
     "output_type": "execute_result"
    }
   ],
   "source": [
    "import cv2\n",
    "import os\n",
    "os.listdir()"
   ]
  },
  {
   "cell_type": "code",
   "execution_count": 3,
   "metadata": {},
   "outputs": [],
   "source": [
    "import glob"
   ]
  },
  {
   "cell_type": "code",
   "execution_count": 5,
   "metadata": {},
   "outputs": [
    {
     "name": "stdout",
     "output_type": "stream",
     "text": [
      "['galaxy.jpg', 'galaxy_resized.jpg', 'kangaroos-rain-australia_71370_990x742.jpg', 'Lighthouse.jpg', 'Moon sinking, sun rising.jpg', 'resized_galaxy.jpg', 'resized_galaxy_resized.jpg', 'resized_kangaroos-rain-australia_71370_990x742.jpg', 'resized_Lighthouse.jpg', 'resized_Moon sinking, sun rising.jpg', 'resized_resized_galaxy.jpg', 'resized_resized_galaxy_resized.jpg', 'resized_resized_kangaroos-rain-australia_71370_990x742.jpg', 'resized_resized_Lighthouse.jpg', 'resized_resized_Moon sinking, sun rising.jpg', 'resized_resized_resized_galaxy.jpg', 'resized_resized_resized_galaxy_resized.jpg', 'resized_resized_resized_kangaroos-rain-australia_71370_990x742.jpg', 'resized_resized_resized_Lighthouse.jpg', 'resized_resized_resized_Moon sinking, sun rising.jpg']\n"
     ]
    }
   ],
   "source": [
    "images=glob.glob(\"*.jpg\")\n",
    "\n",
    "print(images)"
   ]
  },
  {
   "cell_type": "code",
   "execution_count": 5,
   "metadata": {},
   "outputs": [],
   "source": [
    "for image in images:\n",
    "    img=cv2.imread(image,0)\n",
    "    re=cv2.resize(img,(100,100))\n",
    "    cv2.imshow(\"shr\",re)\n",
    "    cv2.waitKey(0)\n",
    "    cv2.destroyAllWindows()\n",
    "    cv2.imwrite(\"resized_\"+image,re)"
   ]
  },
  {
   "cell_type": "code",
   "execution_count": null,
   "metadata": {},
   "outputs": [],
   "source": []
  },
  {
   "cell_type": "code",
   "execution_count": null,
   "metadata": {},
   "outputs": [],
   "source": []
  }
 ],
 "metadata": {
  "kernelspec": {
   "display_name": "Python 3",
   "language": "python",
   "name": "python3"
  },
  "language_info": {
   "codemirror_mode": {
    "name": "ipython",
    "version": 3
   },
   "file_extension": ".py",
   "mimetype": "text/x-python",
   "name": "python",
   "nbconvert_exporter": "python",
   "pygments_lexer": "ipython3",
   "version": "3.7.4"
  }
 },
 "nbformat": 4,
 "nbformat_minor": 2
}
